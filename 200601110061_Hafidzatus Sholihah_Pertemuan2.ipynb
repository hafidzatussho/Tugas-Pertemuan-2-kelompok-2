{
 "cells": [
  {
   "cell_type": "markdown",
   "id": "ccb51367-f220-4a42-8b4b-a6d60033d3aa",
   "metadata": {},
   "source": [
    "## Algorithm 2.1 str()\n"
   ]
  },
  {
   "cell_type": "code",
   "execution_count": 12,
   "id": "6c2777f7-548e-4bf1-b91a-a536bf363687",
   "metadata": {},
   "outputs": [
    {
     "data": {
      "text/plain": [
       "int"
      ]
     },
     "execution_count": 12,
     "metadata": {},
     "output_type": "execute_result"
    }
   ],
   "source": [
    "a=12345\n",
    "type(a)"
   ]
  },
  {
   "cell_type": "code",
   "execution_count": 2,
   "id": "857108ba-3107-4249-b7ff-be5afd835dd4",
   "metadata": {},
   "outputs": [
    {
     "data": {
      "text/plain": [
       "str"
      ]
     },
     "execution_count": 2,
     "metadata": {},
     "output_type": "execute_result"
    }
   ],
   "source": [
    "b=str(a)\n",
    "b'12345'\n",
    "type(b)"
   ]
  },
  {
   "cell_type": "markdown",
   "id": "838466e1-c15f-4c6e-ba8e-c51435e663c0",
   "metadata": {},
   "source": [
    "## Algorithm 2.2 int()"
   ]
  },
  {
   "cell_type": "code",
   "execution_count": 7,
   "id": "aadbf633-4990-4f03-82ae-c79ef35bc6aa",
   "metadata": {},
   "outputs": [
    {
     "data": {
      "text/plain": [
       "str"
      ]
     },
     "execution_count": 7,
     "metadata": {},
     "output_type": "execute_result"
    }
   ],
   "source": [
    "a='12345'\n",
    "type(a)"
   ]
  },
  {
   "cell_type": "code",
   "execution_count": 10,
   "id": "49411652-1cd3-40d1-af3e-10e28ac56e21",
   "metadata": {},
   "outputs": [
    {
     "data": {
      "text/plain": [
       "int"
      ]
     },
     "execution_count": 10,
     "metadata": {},
     "output_type": "execute_result"
    }
   ],
   "source": [
    "b=int(a)\n",
    "b'12345'\n",
    "type(b)"
   ]
  },
  {
   "cell_type": "markdown",
   "id": "4d93028f-bc34-421b-8a36-328519a2b665",
   "metadata": {},
   "source": [
    "## Algorithm 2.3 int()"
   ]
  },
  {
   "cell_type": "code",
   "execution_count": 9,
   "id": "13638c8e-9858-4204-91c7-02ebf667b6ef",
   "metadata": {},
   "outputs": [
    {
     "data": {
      "text/plain": [
       "bool"
      ]
     },
     "execution_count": 9,
     "metadata": {},
     "output_type": "execute_result"
    }
   ],
   "source": [
    "int(True)\n",
    "1\n",
    "int(False)\n",
    "0\n",
    "a=True\n",
    "type(a)"
   ]
  },
  {
   "cell_type": "code",
   "execution_count": 11,
   "id": "8af2687c-10a5-4490-8ea4-95ce676ef14e",
   "metadata": {},
   "outputs": [
    {
     "data": {
      "text/plain": [
       "1"
      ]
     },
     "execution_count": 11,
     "metadata": {},
     "output_type": "execute_result"
    }
   ],
   "source": [
    "int(a)\n",
    "1\n"
   ]
  },
  {
   "cell_type": "markdown",
   "id": "00c28678-33ec-4921-b28c-efd724ff3591",
   "metadata": {},
   "source": [
    "## Algorithm 2.4"
   ]
  },
  {
   "cell_type": "code",
   "execution_count": 22,
   "id": "674e3ead-870b-4705-991e-df76e0f705f8",
   "metadata": {},
   "outputs": [
    {
     "data": {
      "text/plain": [
       "123.456"
      ]
     },
     "execution_count": 22,
     "metadata": {},
     "output_type": "execute_result"
    }
   ],
   "source": [
    "a=123.456\n",
    "a"
   ]
  },
  {
   "cell_type": "code",
   "execution_count": 23,
   "id": "5dba07f5-561e-42c6-8820-f75b2ce9d96e",
   "metadata": {},
   "outputs": [
    {
     "data": {
      "text/plain": [
       "float"
      ]
     },
     "execution_count": 23,
     "metadata": {},
     "output_type": "execute_result"
    }
   ],
   "source": [
    "type(a)"
   ]
  },
  {
   "cell_type": "code",
   "execution_count": 24,
   "id": "9e546b46-740d-45a9-8d6b-c57983274ecc",
   "metadata": {},
   "outputs": [
    {
     "data": {
      "text/plain": [
       "246.912"
      ]
     },
     "execution_count": 24,
     "metadata": {},
     "output_type": "execute_result"
    }
   ],
   "source": [
    "a*2"
   ]
  },
  {
   "cell_type": "markdown",
   "id": "ad0509db-e596-4fee-8dd7-dc904fa265e4",
   "metadata": {},
   "source": [
    "## Algorithm 2.5"
   ]
  },
  {
   "cell_type": "code",
   "execution_count": 25,
   "id": "8891d1e1-ae77-456e-a5df-bfd8199ac644",
   "metadata": {},
   "outputs": [
    {
     "data": {
      "text/plain": [
       "0.00089"
      ]
     },
     "execution_count": 25,
     "metadata": {},
     "output_type": "execute_result"
    }
   ],
   "source": [
    "a=8.9e-4\n",
    "a\n"
   ]
  },
  {
   "cell_type": "markdown",
   "id": "01be0156-2712-4fd4-ac3c-c3071d1289f1",
   "metadata": {},
   "source": [
    "## Algorithm 2.6"
   ]
  },
  {
   "cell_type": "code",
   "execution_count": 27,
   "id": "94204e0c-b8b6-4cc9-80f3-6ffdc19230fd",
   "metadata": {},
   "outputs": [
    {
     "data": {
      "text/plain": [
       "float"
      ]
     },
     "execution_count": 27,
     "metadata": {},
     "output_type": "execute_result"
    }
   ],
   "source": [
    "a=123.456\n",
    "type(a)"
   ]
  },
  {
   "cell_type": "code",
   "execution_count": 28,
   "id": "62e62f5c-9386-41e7-93df-9e516e314ede",
   "metadata": {},
   "outputs": [
    {
     "data": {
      "text/plain": [
       "'123.456'"
      ]
     },
     "execution_count": 28,
     "metadata": {},
     "output_type": "execute_result"
    }
   ],
   "source": [
    "b=str(a)\n",
    "b"
   ]
  },
  {
   "cell_type": "code",
   "execution_count": 29,
   "id": "698b94bd-a56d-49c9-ae82-1fec81c69ce2",
   "metadata": {},
   "outputs": [
    {
     "data": {
      "text/plain": [
       "str"
      ]
     },
     "execution_count": 29,
     "metadata": {},
     "output_type": "execute_result"
    }
   ],
   "source": [
    "type(b)"
   ]
  },
  {
   "cell_type": "code",
   "execution_count": 30,
   "id": "649afa63-688b-41a1-88ed-d6604ec4d878",
   "metadata": {},
   "outputs": [
    {
     "data": {
      "text/plain": [
       "123.456"
      ]
     },
     "execution_count": 30,
     "metadata": {},
     "output_type": "execute_result"
    }
   ],
   "source": [
    "c=float(b)\n",
    "c"
   ]
  },
  {
   "cell_type": "code",
   "execution_count": 31,
   "id": "900244e4-ba3e-487e-ad76-268ca5973f79",
   "metadata": {},
   "outputs": [
    {
     "data": {
      "text/plain": [
       "float"
      ]
     },
     "execution_count": 31,
     "metadata": {},
     "output_type": "execute_result"
    }
   ],
   "source": [
    "type(c)"
   ]
  },
  {
   "cell_type": "markdown",
   "id": "3de7872b-eff8-4dfc-8574-0b5d761b2a9d",
   "metadata": {},
   "source": [
    "## Algorithm 2.7"
   ]
  },
  {
   "cell_type": "code",
   "execution_count": 32,
   "id": "ea0ca002-3be0-4413-adb6-8b32b7bc042e",
   "metadata": {},
   "outputs": [
    {
     "data": {
      "text/plain": [
       "(-9+17j)"
      ]
     },
     "execution_count": 32,
     "metadata": {},
     "output_type": "execute_result"
    }
   ],
   "source": [
    "a=-9+17j\n",
    "a"
   ]
  },
  {
   "cell_type": "code",
   "execution_count": 33,
   "id": "2ec24fc4-dad8-4e69-95ae-b98d6279e494",
   "metadata": {},
   "outputs": [
    {
     "data": {
      "text/plain": [
       "complex"
      ]
     },
     "execution_count": 33,
     "metadata": {},
     "output_type": "execute_result"
    }
   ],
   "source": [
    "type(a)"
   ]
  },
  {
   "cell_type": "code",
   "execution_count": 34,
   "id": "98e3112e-801a-4883-923a-c5b4b53f0fbb",
   "metadata": {},
   "outputs": [
    {
     "data": {
      "text/plain": [
       "-9.0"
      ]
     },
     "execution_count": 34,
     "metadata": {},
     "output_type": "execute_result"
    }
   ],
   "source": [
    "a.real"
   ]
  },
  {
   "cell_type": "code",
   "execution_count": 35,
   "id": "446a10ca-8dce-4a76-aa48-bef8203083e2",
   "metadata": {},
   "outputs": [
    {
     "data": {
      "text/plain": [
       "17.0"
      ]
     },
     "execution_count": 35,
     "metadata": {},
     "output_type": "execute_result"
    }
   ],
   "source": [
    "a.imag"
   ]
  },
  {
   "cell_type": "markdown",
   "id": "e1f70513-2956-4017-9ff2-dda34497c6e8",
   "metadata": {},
   "source": [
    "## TUGAS (Algorithm 2.8)"
   ]
  },
  {
   "cell_type": "code",
   "execution_count": 3,
   "id": "260d0d5e-8b32-4fc2-8c83-b5fafb8e4aca",
   "metadata": {},
   "outputs": [
    {
     "data": {
      "text/plain": [
       "'PyQt'"
      ]
     },
     "execution_count": 3,
     "metadata": {},
     "output_type": "execute_result"
    }
   ],
   "source": [
    "s1='PyQt'\n",
    "s1\n"
   ]
  },
  {
   "cell_type": "code",
   "execution_count": 4,
   "id": "f775e768-9ab5-41eb-9f34-c0fe3b15812e",
   "metadata": {},
   "outputs": [
    {
     "data": {
      "text/plain": [
       "'Python'"
      ]
     },
     "execution_count": 4,
     "metadata": {},
     "output_type": "execute_result"
    }
   ],
   "source": [
    "s2=\"Python\"\n",
    "s2"
   ]
  },
  {
   "cell_type": "code",
   "execution_count": 37,
   "id": "0b008b42-24b4-450b-811f-bb5cb652ab6c",
   "metadata": {},
   "outputs": [
    {
     "data": {
      "text/plain": [
       "'\\nPemograman GUI\\ndengan Python dan PyQt\\n'"
      ]
     },
     "execution_count": 37,
     "metadata": {},
     "output_type": "execute_result"
    }
   ],
   "source": [
    "s3='''Pemograman GUI dengan Python dan PyQt'''\n",
    "s3='\\nPemograman GUI\\ndengan Python dan PyQt\\n'\n",
    "s4=\"\"\" Pemograman GUI dengan Python dan PyQt \"\"\"\n",
    "s3"
   ]
  },
  {
   "cell_type": "code",
   "execution_count": 38,
   "id": "5ffea83c-cda7-4fce-9d64-f8288ad7cd80",
   "metadata": {},
   "outputs": [
    {
     "data": {
      "text/plain": [
       "'python'"
      ]
     },
     "execution_count": 38,
     "metadata": {},
     "output_type": "execute_result"
    }
   ],
   "source": [
    "b='python'\n",
    "b"
   ]
  },
  {
   "cell_type": "code",
   "execution_count": 39,
   "id": "fe0ca18b-5c7f-4b6f-8d5f-b33e9dc4cd39",
   "metadata": {},
   "outputs": [
    {
     "data": {
      "text/plain": [
       "'Python'"
      ]
     },
     "execution_count": 39,
     "metadata": {},
     "output_type": "execute_result"
    }
   ],
   "source": [
    "b=b.capitalize()\n",
    "b"
   ]
  },
  {
   "cell_type": "code",
   "execution_count": 40,
   "id": "8ea2ccdc-2886-4648-8236-e16a789fd16f",
   "metadata": {},
   "outputs": [
    {
     "data": {
      "text/plain": [
       "'PYTHON'"
      ]
     },
     "execution_count": 40,
     "metadata": {},
     "output_type": "execute_result"
    }
   ],
   "source": [
    "b=b.upper()\n",
    "b"
   ]
  },
  {
   "cell_type": "code",
   "execution_count": 41,
   "id": "11854bea-1436-4d0b-9d9e-d8478e483772",
   "metadata": {},
   "outputs": [
    {
     "data": {
      "text/plain": [
       "'python'"
      ]
     },
     "execution_count": 41,
     "metadata": {},
     "output_type": "execute_result"
    }
   ],
   "source": [
    "b=b.lower()\n",
    "b"
   ]
  },
  {
   "cell_type": "code",
   "execution_count": 42,
   "id": "8818aa7f-de07-4fab-aefa-e6a6f3475151",
   "metadata": {},
   "outputs": [
    {
     "data": {
      "text/plain": [
       "False"
      ]
     },
     "execution_count": 42,
     "metadata": {},
     "output_type": "execute_result"
    }
   ],
   "source": [
    "b.isupper()"
   ]
  },
  {
   "cell_type": "code",
   "execution_count": 43,
   "id": "8f3ca795-4e17-4044-a5e2-1162c17dcf6f",
   "metadata": {},
   "outputs": [
    {
     "data": {
      "text/plain": [
       "True"
      ]
     },
     "execution_count": 43,
     "metadata": {},
     "output_type": "execute_result"
    }
   ],
   "source": [
    "b.islower()"
   ]
  },
  {
   "cell_type": "code",
   "execution_count": 44,
   "id": "ca049af2-7158-42cc-b121-a90244138aea",
   "metadata": {},
   "outputs": [
    {
     "data": {
      "text/plain": [
       "'saya makan ayam'"
      ]
     },
     "execution_count": 44,
     "metadata": {},
     "output_type": "execute_result"
    }
   ],
   "source": [
    "s=' '.join(['saya','makan','ayam'])\n",
    "s"
   ]
  },
  {
   "cell_type": "code",
   "execution_count": 45,
   "id": "2c375e8a-0085-4779-9ac5-1ce741575b4d",
   "metadata": {},
   "outputs": [
    {
     "data": {
      "text/plain": [
       "True"
      ]
     },
     "execution_count": 45,
     "metadata": {},
     "output_type": "execute_result"
    }
   ],
   "source": [
    "nim='16610021'\n",
    "nim.isnumeric()"
   ]
  },
  {
   "cell_type": "code",
   "execution_count": 46,
   "id": "21c410c8-2f8b-428e-aeef-40fcce68b7f2",
   "metadata": {},
   "outputs": [
    {
     "data": {
      "text/plain": [
       "False"
      ]
     },
     "execution_count": 46,
     "metadata": {},
     "output_type": "execute_result"
    }
   ],
   "source": [
    "nim='16610o21'\n",
    "nim.isnumeric()"
   ]
  },
  {
   "cell_type": "code",
   "execution_count": null,
   "id": "fda24f8a-72a7-4d9e-80f5-c31928f5e725",
   "metadata": {},
   "outputs": [],
   "source": []
  }
 ],
 "metadata": {
  "kernelspec": {
   "display_name": "Python 3 (ipykernel)",
   "language": "python",
   "name": "python3"
  },
  "language_info": {
   "codemirror_mode": {
    "name": "ipython",
    "version": 3
   },
   "file_extension": ".py",
   "mimetype": "text/x-python",
   "name": "python",
   "nbconvert_exporter": "python",
   "pygments_lexer": "ipython3",
   "version": "3.10.2"
  }
 },
 "nbformat": 4,
 "nbformat_minor": 5
}
